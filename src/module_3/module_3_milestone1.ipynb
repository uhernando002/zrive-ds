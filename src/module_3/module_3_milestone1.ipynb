{
 "cells": [
  {
   "cell_type": "markdown",
   "metadata": {},
   "source": [
    "# MODULE 3\n",
    "## Milestone 1: exploration phase"
   ]
  },
  {
   "cell_type": "code",
   "execution_count": 1,
   "metadata": {},
   "outputs": [],
   "source": [
    "import pandas as pd\n",
    "import matplotlib.pyplot as plt\n",
    "import numpy as np\n",
    "import seaborn as sns\n",
    "\n",
    "plt.style.use(\"ggplot\")"
   ]
  },
  {
   "cell_type": "code",
   "execution_count": 21,
   "metadata": {},
   "outputs": [
    {
     "data": {
      "text/html": [
       "<div>\n",
       "<style scoped>\n",
       "    .dataframe tbody tr th:only-of-type {\n",
       "        vertical-align: middle;\n",
       "    }\n",
       "\n",
       "    .dataframe tbody tr th {\n",
       "        vertical-align: top;\n",
       "    }\n",
       "\n",
       "    .dataframe thead th {\n",
       "        text-align: right;\n",
       "    }\n",
       "</style>\n",
       "<table border=\"1\" class=\"dataframe\">\n",
       "  <thead>\n",
       "    <tr style=\"text-align: right;\">\n",
       "      <th></th>\n",
       "      <th>variant_id</th>\n",
       "      <th>product_type</th>\n",
       "      <th>order_id</th>\n",
       "      <th>user_id</th>\n",
       "      <th>created_at</th>\n",
       "      <th>order_date</th>\n",
       "      <th>user_order_seq</th>\n",
       "      <th>outcome</th>\n",
       "      <th>ordered_before</th>\n",
       "      <th>abandoned_before</th>\n",
       "      <th>...</th>\n",
       "      <th>count_children</th>\n",
       "      <th>count_babies</th>\n",
       "      <th>count_pets</th>\n",
       "      <th>people_ex_baby</th>\n",
       "      <th>days_since_purchase_variant_id</th>\n",
       "      <th>avg_days_to_buy_variant_id</th>\n",
       "      <th>std_days_to_buy_variant_id</th>\n",
       "      <th>days_since_purchase_product_type</th>\n",
       "      <th>avg_days_to_buy_product_type</th>\n",
       "      <th>std_days_to_buy_product_type</th>\n",
       "    </tr>\n",
       "  </thead>\n",
       "  <tbody>\n",
       "    <tr>\n",
       "      <th>0</th>\n",
       "      <td>33826472919172</td>\n",
       "      <td>ricepastapulses</td>\n",
       "      <td>2807985930372</td>\n",
       "      <td>3482464092292</td>\n",
       "      <td>2020-10-05 16:46:19</td>\n",
       "      <td>2020-10-05 00:00:00</td>\n",
       "      <td>3</td>\n",
       "      <td>0.0</td>\n",
       "      <td>0.0</td>\n",
       "      <td>0.0</td>\n",
       "      <td>...</td>\n",
       "      <td>0.0</td>\n",
       "      <td>0.0</td>\n",
       "      <td>0.0</td>\n",
       "      <td>2.0</td>\n",
       "      <td>33.0</td>\n",
       "      <td>42.0</td>\n",
       "      <td>31.134053</td>\n",
       "      <td>30.0</td>\n",
       "      <td>30.0</td>\n",
       "      <td>24.27618</td>\n",
       "    </tr>\n",
       "    <tr>\n",
       "      <th>1</th>\n",
       "      <td>33826472919172</td>\n",
       "      <td>ricepastapulses</td>\n",
       "      <td>2808027644036</td>\n",
       "      <td>3466586718340</td>\n",
       "      <td>2020-10-05 17:59:51</td>\n",
       "      <td>2020-10-05 00:00:00</td>\n",
       "      <td>2</td>\n",
       "      <td>0.0</td>\n",
       "      <td>0.0</td>\n",
       "      <td>0.0</td>\n",
       "      <td>...</td>\n",
       "      <td>0.0</td>\n",
       "      <td>0.0</td>\n",
       "      <td>0.0</td>\n",
       "      <td>2.0</td>\n",
       "      <td>33.0</td>\n",
       "      <td>42.0</td>\n",
       "      <td>31.134053</td>\n",
       "      <td>30.0</td>\n",
       "      <td>30.0</td>\n",
       "      <td>24.27618</td>\n",
       "    </tr>\n",
       "    <tr>\n",
       "      <th>2</th>\n",
       "      <td>33826472919172</td>\n",
       "      <td>ricepastapulses</td>\n",
       "      <td>2808099078276</td>\n",
       "      <td>3481384026244</td>\n",
       "      <td>2020-10-05 20:08:53</td>\n",
       "      <td>2020-10-05 00:00:00</td>\n",
       "      <td>4</td>\n",
       "      <td>0.0</td>\n",
       "      <td>0.0</td>\n",
       "      <td>0.0</td>\n",
       "      <td>...</td>\n",
       "      <td>0.0</td>\n",
       "      <td>0.0</td>\n",
       "      <td>0.0</td>\n",
       "      <td>2.0</td>\n",
       "      <td>33.0</td>\n",
       "      <td>42.0</td>\n",
       "      <td>31.134053</td>\n",
       "      <td>30.0</td>\n",
       "      <td>30.0</td>\n",
       "      <td>24.27618</td>\n",
       "    </tr>\n",
       "    <tr>\n",
       "      <th>3</th>\n",
       "      <td>33826472919172</td>\n",
       "      <td>ricepastapulses</td>\n",
       "      <td>2808393957508</td>\n",
       "      <td>3291363377284</td>\n",
       "      <td>2020-10-06 08:57:59</td>\n",
       "      <td>2020-10-06 00:00:00</td>\n",
       "      <td>2</td>\n",
       "      <td>0.0</td>\n",
       "      <td>0.0</td>\n",
       "      <td>0.0</td>\n",
       "      <td>...</td>\n",
       "      <td>0.0</td>\n",
       "      <td>0.0</td>\n",
       "      <td>0.0</td>\n",
       "      <td>2.0</td>\n",
       "      <td>33.0</td>\n",
       "      <td>42.0</td>\n",
       "      <td>31.134053</td>\n",
       "      <td>30.0</td>\n",
       "      <td>30.0</td>\n",
       "      <td>24.27618</td>\n",
       "    </tr>\n",
       "    <tr>\n",
       "      <th>4</th>\n",
       "      <td>33826472919172</td>\n",
       "      <td>ricepastapulses</td>\n",
       "      <td>2808429314180</td>\n",
       "      <td>3537167515780</td>\n",
       "      <td>2020-10-06 10:37:05</td>\n",
       "      <td>2020-10-06 00:00:00</td>\n",
       "      <td>3</td>\n",
       "      <td>0.0</td>\n",
       "      <td>0.0</td>\n",
       "      <td>0.0</td>\n",
       "      <td>...</td>\n",
       "      <td>0.0</td>\n",
       "      <td>0.0</td>\n",
       "      <td>0.0</td>\n",
       "      <td>2.0</td>\n",
       "      <td>33.0</td>\n",
       "      <td>42.0</td>\n",
       "      <td>31.134053</td>\n",
       "      <td>30.0</td>\n",
       "      <td>30.0</td>\n",
       "      <td>24.27618</td>\n",
       "    </tr>\n",
       "  </tbody>\n",
       "</table>\n",
       "<p>5 rows × 27 columns</p>\n",
       "</div>"
      ],
      "text/plain": [
       "       variant_id     product_type       order_id        user_id  \\\n",
       "0  33826472919172  ricepastapulses  2807985930372  3482464092292   \n",
       "1  33826472919172  ricepastapulses  2808027644036  3466586718340   \n",
       "2  33826472919172  ricepastapulses  2808099078276  3481384026244   \n",
       "3  33826472919172  ricepastapulses  2808393957508  3291363377284   \n",
       "4  33826472919172  ricepastapulses  2808429314180  3537167515780   \n",
       "\n",
       "            created_at           order_date  user_order_seq  outcome  \\\n",
       "0  2020-10-05 16:46:19  2020-10-05 00:00:00               3      0.0   \n",
       "1  2020-10-05 17:59:51  2020-10-05 00:00:00               2      0.0   \n",
       "2  2020-10-05 20:08:53  2020-10-05 00:00:00               4      0.0   \n",
       "3  2020-10-06 08:57:59  2020-10-06 00:00:00               2      0.0   \n",
       "4  2020-10-06 10:37:05  2020-10-06 00:00:00               3      0.0   \n",
       "\n",
       "   ordered_before  abandoned_before  ...  count_children  count_babies  \\\n",
       "0             0.0               0.0  ...             0.0           0.0   \n",
       "1             0.0               0.0  ...             0.0           0.0   \n",
       "2             0.0               0.0  ...             0.0           0.0   \n",
       "3             0.0               0.0  ...             0.0           0.0   \n",
       "4             0.0               0.0  ...             0.0           0.0   \n",
       "\n",
       "   count_pets  people_ex_baby days_since_purchase_variant_id  \\\n",
       "0         0.0             2.0                           33.0   \n",
       "1         0.0             2.0                           33.0   \n",
       "2         0.0             2.0                           33.0   \n",
       "3         0.0             2.0                           33.0   \n",
       "4         0.0             2.0                           33.0   \n",
       "\n",
       "   avg_days_to_buy_variant_id  std_days_to_buy_variant_id  \\\n",
       "0                        42.0                   31.134053   \n",
       "1                        42.0                   31.134053   \n",
       "2                        42.0                   31.134053   \n",
       "3                        42.0                   31.134053   \n",
       "4                        42.0                   31.134053   \n",
       "\n",
       "   days_since_purchase_product_type  avg_days_to_buy_product_type  \\\n",
       "0                              30.0                          30.0   \n",
       "1                              30.0                          30.0   \n",
       "2                              30.0                          30.0   \n",
       "3                              30.0                          30.0   \n",
       "4                              30.0                          30.0   \n",
       "\n",
       "   std_days_to_buy_product_type  \n",
       "0                      24.27618  \n",
       "1                      24.27618  \n",
       "2                      24.27618  \n",
       "3                      24.27618  \n",
       "4                      24.27618  \n",
       "\n",
       "[5 rows x 27 columns]"
      ]
     },
     "execution_count": 21,
     "metadata": {},
     "output_type": "execute_result"
    }
   ],
   "source": [
    "box_builder_sample_data = '/home/unai/datasets/feature_frame.csv'\n",
    "bb_df = pd.read_csv(box_builder_sample_data)\n",
    "bb_df.head()"
   ]
  },
  {
   "cell_type": "code",
   "execution_count": 22,
   "metadata": {},
   "outputs": [
    {
     "data": {
      "text/plain": [
       "Index(['variant_id', 'product_type', 'order_id', 'user_id', 'created_at',\n",
       "       'order_date', 'user_order_seq', 'outcome', 'ordered_before',\n",
       "       'abandoned_before', 'active_snoozed', 'set_as_regular',\n",
       "       'normalised_price', 'discount_pct', 'vendor', 'global_popularity',\n",
       "       'count_adults', 'count_children', 'count_babies', 'count_pets',\n",
       "       'people_ex_baby', 'days_since_purchase_variant_id',\n",
       "       'avg_days_to_buy_variant_id', 'std_days_to_buy_variant_id',\n",
       "       'days_since_purchase_product_type', 'avg_days_to_buy_product_type',\n",
       "       'std_days_to_buy_product_type'],\n",
       "      dtype='object')"
      ]
     },
     "execution_count": 22,
     "metadata": {},
     "output_type": "execute_result"
    }
   ],
   "source": [
    "bb_df.columns"
   ]
  },
  {
   "cell_type": "code",
   "execution_count": 4,
   "metadata": {},
   "outputs": [
    {
     "name": "stdout",
     "output_type": "stream",
     "text": [
      "<class 'pandas.core.frame.DataFrame'>\n",
      "RangeIndex: 2880549 entries, 0 to 2880548\n",
      "Data columns (total 27 columns):\n",
      " #   Column                            Dtype  \n",
      "---  ------                            -----  \n",
      " 0   variant_id                        int64  \n",
      " 1   product_type                      object \n",
      " 2   order_id                          int64  \n",
      " 3   user_id                           int64  \n",
      " 4   created_at                        object \n",
      " 5   order_date                        object \n",
      " 6   user_order_seq                    int64  \n",
      " 7   outcome                           float64\n",
      " 8   ordered_before                    float64\n",
      " 9   abandoned_before                  float64\n",
      " 10  active_snoozed                    float64\n",
      " 11  set_as_regular                    float64\n",
      " 12  normalised_price                  float64\n",
      " 13  discount_pct                      float64\n",
      " 14  vendor                            object \n",
      " 15  global_popularity                 float64\n",
      " 16  count_adults                      float64\n",
      " 17  count_children                    float64\n",
      " 18  count_babies                      float64\n",
      " 19  count_pets                        float64\n",
      " 20  people_ex_baby                    float64\n",
      " 21  days_since_purchase_variant_id    float64\n",
      " 22  avg_days_to_buy_variant_id        float64\n",
      " 23  std_days_to_buy_variant_id        float64\n",
      " 24  days_since_purchase_product_type  float64\n",
      " 25  avg_days_to_buy_product_type      float64\n",
      " 26  std_days_to_buy_product_type      float64\n",
      "dtypes: float64(19), int64(4), object(4)\n",
      "memory usage: 593.4+ MB\n"
     ]
    }
   ],
   "source": [
    "bb_df.info()"
   ]
  },
  {
   "cell_type": "code",
   "execution_count": 23,
   "metadata": {},
   "outputs": [],
   "source": [
    "info_cols = ['variant_id', 'order_id', 'user_id', 'created_at', 'order_date']\n",
    "label_col = 'outcome'\n",
    "features_cols = [col for col in bb_df.columns if col not in info_cols + [label_col]]\n",
    "\n",
    "categorical_cols = ['product_type', 'vendor']\n",
    "binary_cols = ['ordered_before', 'abandoned_before', 'active_snoozed', 'set_as_regular']\n",
    "numerical_cols = [col for col in features_cols if col not in categorical_cols + binary_cols]"
   ]
  },
  {
   "cell_type": "code",
   "execution_count": 6,
   "metadata": {},
   "outputs": [
    {
     "data": {
      "text/html": [
       "<div>\n",
       "<style scoped>\n",
       "    .dataframe tbody tr th:only-of-type {\n",
       "        vertical-align: middle;\n",
       "    }\n",
       "\n",
       "    .dataframe tbody tr th {\n",
       "        vertical-align: top;\n",
       "    }\n",
       "\n",
       "    .dataframe thead th {\n",
       "        text-align: right;\n",
       "    }\n",
       "</style>\n",
       "<table border=\"1\" class=\"dataframe\">\n",
       "  <thead>\n",
       "    <tr style=\"text-align: right;\">\n",
       "      <th></th>\n",
       "      <th>product_type</th>\n",
       "      <th>vendor</th>\n",
       "    </tr>\n",
       "  </thead>\n",
       "  <tbody>\n",
       "    <tr>\n",
       "      <th>count</th>\n",
       "      <td>2880549</td>\n",
       "      <td>2880549</td>\n",
       "    </tr>\n",
       "    <tr>\n",
       "      <th>unique</th>\n",
       "      <td>62</td>\n",
       "      <td>264</td>\n",
       "    </tr>\n",
       "    <tr>\n",
       "      <th>top</th>\n",
       "      <td>tinspackagedfoods</td>\n",
       "      <td>biona</td>\n",
       "    </tr>\n",
       "    <tr>\n",
       "      <th>freq</th>\n",
       "      <td>226474</td>\n",
       "      <td>146828</td>\n",
       "    </tr>\n",
       "  </tbody>\n",
       "</table>\n",
       "</div>"
      ],
      "text/plain": [
       "             product_type   vendor\n",
       "count             2880549  2880549\n",
       "unique                 62      264\n",
       "top     tinspackagedfoods    biona\n",
       "freq               226474   146828"
      ]
     },
     "execution_count": 6,
     "metadata": {},
     "output_type": "execute_result"
    }
   ],
   "source": [
    "bb_df[categorical_cols].describe()"
   ]
  },
  {
   "cell_type": "markdown",
   "metadata": {},
   "source": [
    "##### Categorical variables have very high cardinality. We are goning to use frequency encoding."
   ]
  },
  {
   "cell_type": "code",
   "execution_count": 24,
   "metadata": {},
   "outputs": [],
   "source": [
    "bb_df.product_type.replace(((bb_df['product_type'].value_counts()/len(bb_df)*100).round(5)).to_dict(), inplace=True)\n",
    "bb_df.vendor.replace(((bb_df['vendor'].value_counts()/len(bb_df)*100).round(5)).to_dict(), inplace=True)"
   ]
  },
  {
   "cell_type": "code",
   "execution_count": 25,
   "metadata": {},
   "outputs": [],
   "source": [
    "# We only keep orders with at least 5 items\n",
    "orders = bb_df['order_id'].unique()\n",
    "orders_more5 = orders[bb_df.groupby('order_id')['outcome'].sum() >= 5]\n",
    "bb_df = bb_df.loc[bb_df['order_id'].isin(orders_more5)]"
   ]
  },
  {
   "cell_type": "code",
   "execution_count": 26,
   "metadata": {},
   "outputs": [
    {
     "data": {
      "text/plain": [
       "outcome\n",
       "0.0    98.552233\n",
       "1.0     1.447767\n",
       "Name: count, dtype: float64"
      ]
     },
     "execution_count": 26,
     "metadata": {},
     "output_type": "execute_result"
    }
   ],
   "source": [
    "bb_df[label_col].value_counts()/len(bb_df)*100"
   ]
  },
  {
   "cell_type": "markdown",
   "metadata": {},
   "source": [
    "##### Unbalanced problem --> We must mantain the porcentage in train, validation and testing datasets"
   ]
  },
  {
   "cell_type": "code",
   "execution_count": 27,
   "metadata": {},
   "outputs": [],
   "source": [
    "# We avoid information leakage in train and test datasets of different users\n",
    "users = bb_df['user_id'].unique()\n",
    "users_train, users_validation, users_test = np.split(users, [int(.6 * len(users)), int(.78 * len(users))])"
   ]
  },
  {
   "cell_type": "code",
   "execution_count": 29,
   "metadata": {},
   "outputs": [],
   "source": [
    "train = bb_df[bb_df['user_id'].isin(users_train)].reset_index()\n",
    "X_train = train[features_cols]\n",
    "Y_train = train[label_col]\n",
    "\n",
    "validation = bb_df[bb_df['user_id'].isin(users_validation)].reset_index()\n",
    "X_validation = validation[features_cols]\n",
    "Y_validation = validation[label_col]\n",
    "\n",
    "test = bb_df[bb_df['user_id'].isin(users_test)].reset_index()\n",
    "X_test = test[features_cols]\n",
    "Y_test = test[label_col]"
   ]
  },
  {
   "cell_type": "code",
   "execution_count": 30,
   "metadata": {},
   "outputs": [
    {
     "name": "stdout",
     "output_type": "stream",
     "text": [
      "Value counts train: {0.0: 98.48475974586931, 1.0: 1.5152402541306886}\n",
      "Value counts validation: {0.0: 98.674001140962, 1.0: 1.3259988590379859}\n",
      "Value counts test: {0.0: 98.73850229644577, 1.0: 1.2614977035542296}\n"
     ]
    }
   ],
   "source": [
    "print(f\"Value counts train: {(Y_train.value_counts()/len(Y_train)*100).to_dict()}\")\n",
    "print(f\"Value counts validation: {(Y_validation.value_counts()/len(Y_validation)*100).to_dict()}\")\n",
    "print(f\"Value counts test: {(Y_test.value_counts()/len(Y_test)*100).to_dict()}\")"
   ]
  },
  {
   "cell_type": "markdown",
   "metadata": {},
   "source": [
    "##### We keep the balance in the training, validation and testing datasets"
   ]
  },
  {
   "cell_type": "markdown",
   "metadata": {},
   "source": [
    "## TESTING DIFFERENT MODELS"
   ]
  },
  {
   "cell_type": "code",
   "execution_count": 41,
   "metadata": {},
   "outputs": [],
   "source": [
    "from sklearn import datasets, linear_model\n",
    "from sklearn.metrics import mean_squared_error, r2_score, confusion_matrix, ConfusionMatrixDisplay"
   ]
  },
  {
   "cell_type": "code",
   "execution_count": 59,
   "metadata": {},
   "outputs": [
    {
     "name": "stderr",
     "output_type": "stream",
     "text": [
      "/home/unai/zrive-ds/.venv/lib/python3.11/site-packages/sklearn/linear_model/_logistic.py:460: ConvergenceWarning: lbfgs failed to converge (status=1):\n",
      "STOP: TOTAL NO. of ITERATIONS REACHED LIMIT.\n",
      "\n",
      "Increase the number of iterations (max_iter) or scale the data as shown in:\n",
      "    https://scikit-learn.org/stable/modules/preprocessing.html\n",
      "Please also refer to the documentation for alternative solver options:\n",
      "    https://scikit-learn.org/stable/modules/linear_model.html#logistic-regression\n",
      "  n_iter_i = _check_optimize_result(\n"
     ]
    },
    {
     "data": {
      "text/html": [
       "<style>#sk-container-id-3 {color: black;}#sk-container-id-3 pre{padding: 0;}#sk-container-id-3 div.sk-toggleable {background-color: white;}#sk-container-id-3 label.sk-toggleable__label {cursor: pointer;display: block;width: 100%;margin-bottom: 0;padding: 0.3em;box-sizing: border-box;text-align: center;}#sk-container-id-3 label.sk-toggleable__label-arrow:before {content: \"▸\";float: left;margin-right: 0.25em;color: #696969;}#sk-container-id-3 label.sk-toggleable__label-arrow:hover:before {color: black;}#sk-container-id-3 div.sk-estimator:hover label.sk-toggleable__label-arrow:before {color: black;}#sk-container-id-3 div.sk-toggleable__content {max-height: 0;max-width: 0;overflow: hidden;text-align: left;background-color: #f0f8ff;}#sk-container-id-3 div.sk-toggleable__content pre {margin: 0.2em;color: black;border-radius: 0.25em;background-color: #f0f8ff;}#sk-container-id-3 input.sk-toggleable__control:checked~div.sk-toggleable__content {max-height: 200px;max-width: 100%;overflow: auto;}#sk-container-id-3 input.sk-toggleable__control:checked~label.sk-toggleable__label-arrow:before {content: \"▾\";}#sk-container-id-3 div.sk-estimator input.sk-toggleable__control:checked~label.sk-toggleable__label {background-color: #d4ebff;}#sk-container-id-3 div.sk-label input.sk-toggleable__control:checked~label.sk-toggleable__label {background-color: #d4ebff;}#sk-container-id-3 input.sk-hidden--visually {border: 0;clip: rect(1px 1px 1px 1px);clip: rect(1px, 1px, 1px, 1px);height: 1px;margin: -1px;overflow: hidden;padding: 0;position: absolute;width: 1px;}#sk-container-id-3 div.sk-estimator {font-family: monospace;background-color: #f0f8ff;border: 1px dotted black;border-radius: 0.25em;box-sizing: border-box;margin-bottom: 0.5em;}#sk-container-id-3 div.sk-estimator:hover {background-color: #d4ebff;}#sk-container-id-3 div.sk-parallel-item::after {content: \"\";width: 100%;border-bottom: 1px solid gray;flex-grow: 1;}#sk-container-id-3 div.sk-label:hover label.sk-toggleable__label {background-color: #d4ebff;}#sk-container-id-3 div.sk-serial::before {content: \"\";position: absolute;border-left: 1px solid gray;box-sizing: border-box;top: 0;bottom: 0;left: 50%;z-index: 0;}#sk-container-id-3 div.sk-serial {display: flex;flex-direction: column;align-items: center;background-color: white;padding-right: 0.2em;padding-left: 0.2em;position: relative;}#sk-container-id-3 div.sk-item {position: relative;z-index: 1;}#sk-container-id-3 div.sk-parallel {display: flex;align-items: stretch;justify-content: center;background-color: white;position: relative;}#sk-container-id-3 div.sk-item::before, #sk-container-id-3 div.sk-parallel-item::before {content: \"\";position: absolute;border-left: 1px solid gray;box-sizing: border-box;top: 0;bottom: 0;left: 50%;z-index: -1;}#sk-container-id-3 div.sk-parallel-item {display: flex;flex-direction: column;z-index: 1;position: relative;background-color: white;}#sk-container-id-3 div.sk-parallel-item:first-child::after {align-self: flex-end;width: 50%;}#sk-container-id-3 div.sk-parallel-item:last-child::after {align-self: flex-start;width: 50%;}#sk-container-id-3 div.sk-parallel-item:only-child::after {width: 0;}#sk-container-id-3 div.sk-dashed-wrapped {border: 1px dashed gray;margin: 0 0.4em 0.5em 0.4em;box-sizing: border-box;padding-bottom: 0.4em;background-color: white;}#sk-container-id-3 div.sk-label label {font-family: monospace;font-weight: bold;display: inline-block;line-height: 1.2em;}#sk-container-id-3 div.sk-label-container {text-align: center;}#sk-container-id-3 div.sk-container {/* jupyter's `normalize.less` sets `[hidden] { display: none; }` but bootstrap.min.css set `[hidden] { display: none !important; }` so we also need the `!important` here to be able to override the default hidden behavior on the sphinx rendered scikit-learn.org. See: https://github.com/scikit-learn/scikit-learn/issues/21755 */display: inline-block !important;position: relative;}#sk-container-id-3 div.sk-text-repr-fallback {display: none;}</style><div id=\"sk-container-id-3\" class=\"sk-top-container\"><div class=\"sk-text-repr-fallback\"><pre>LogisticRegression(max_iter=250)</pre><b>In a Jupyter environment, please rerun this cell to show the HTML representation or trust the notebook. <br />On GitHub, the HTML representation is unable to render, please try loading this page with nbviewer.org.</b></div><div class=\"sk-container\" hidden><div class=\"sk-item\"><div class=\"sk-estimator sk-toggleable\"><input class=\"sk-toggleable__control sk-hidden--visually\" id=\"sk-estimator-id-3\" type=\"checkbox\" checked><label for=\"sk-estimator-id-3\" class=\"sk-toggleable__label sk-toggleable__label-arrow\">LogisticRegression</label><div class=\"sk-toggleable__content\"><pre>LogisticRegression(max_iter=250)</pre></div></div></div></div></div>"
      ],
      "text/plain": [
       "LogisticRegression(max_iter=250)"
      ]
     },
     "execution_count": 59,
     "metadata": {},
     "output_type": "execute_result"
    }
   ],
   "source": [
    "regr = linear_model.LogisticRegression(max_iter=250)\n",
    "regr.fit(X_train, Y_train)"
   ]
  },
  {
   "cell_type": "code",
   "execution_count": 60,
   "metadata": {},
   "outputs": [
    {
     "data": {
      "text/plain": [
       "array([[ 3.57493341e-02, -6.89855839e-02,  2.71194491e+00,\n",
       "         5.12447178e+00,  8.83803238e-03,  1.82445978e+00,\n",
       "        -2.46291620e+00,  3.05910817e-01, -1.12551978e-02,\n",
       "         2.16274152e+00, -4.17145100e-02,  2.65358116e-03,\n",
       "         9.18054667e-02,  9.87874506e-02, -3.90609288e-02,\n",
       "        -1.21015183e-02, -1.93623980e-02,  4.07025579e-03,\n",
       "         5.32724075e-03, -1.41717316e-02, -2.51541216e-02]])"
      ]
     },
     "execution_count": 60,
     "metadata": {},
     "output_type": "execute_result"
    }
   ],
   "source": [
    "regr.coef_"
   ]
  },
  {
   "cell_type": "code",
   "execution_count": 93,
   "metadata": {},
   "outputs": [],
   "source": [
    "Y_prob = regr.predict_proba(X_validation)"
   ]
  },
  {
   "cell_type": "code",
   "execution_count": 88,
   "metadata": {},
   "outputs": [
    {
     "data": {
      "text/plain": [
       "338311"
      ]
     },
     "execution_count": 88,
     "metadata": {},
     "output_type": "execute_result"
    }
   ],
   "source": [
    "len(Y_prob[:,1])"
   ]
  },
  {
   "cell_type": "code",
   "execution_count": 58,
   "metadata": {},
   "outputs": [
    {
     "data": {
      "text/plain": [
       "outcome\n",
       "0.0    333825\n",
       "1.0      4486\n",
       "Name: count, dtype: int64"
      ]
     },
     "execution_count": 58,
     "metadata": {},
     "output_type": "execute_result"
    }
   ],
   "source": [
    "Y_validation.value_counts()"
   ]
  },
  {
   "cell_type": "code",
   "execution_count": 125,
   "metadata": {},
   "outputs": [],
   "source": [
    "threshold = 0.025\n",
    "Y_pred = np.zeros(Y_prob[:,1].shape)\n",
    "Y_pred[Y_prob[:,1] > threshold] = 1"
   ]
  },
  {
   "cell_type": "code",
   "execution_count": 126,
   "metadata": {},
   "outputs": [],
   "source": [
    "C = confusion_matrix(Y_validation, Y_pred, normalize='true')"
   ]
  },
  {
   "cell_type": "code",
   "execution_count": 115,
   "metadata": {},
   "outputs": [
    {
     "data": {
      "text/plain": [
       "array([[98.69512469,  1.30487531],\n",
       "       [74.96656264, 25.03343736]])"
      ]
     },
     "execution_count": 115,
     "metadata": {},
     "output_type": "execute_result"
    }
   ],
   "source": [
    "C"
   ]
  },
  {
   "cell_type": "code",
   "execution_count": 127,
   "metadata": {},
   "outputs": [
    {
     "data": {
      "image/png": "[encoded data removed]",
      "text/plain": [
       "<Figure size 640x480 with 2 Axes>"
      ]
     },
     "metadata": {},
     "output_type": "display_data"
    }
   ],
   "source": [
    "disp = ConfusionMatrixDisplay(C)\n",
    "disp.plot()\n",
    "plt.show()"
   ]
  }
 ],
 "metadata": {
  "kernelspec": {
   "display_name": ".venv",
   "language": "python",
   "name": "python3"
  },
  "language_info": {
   "codemirror_mode": {
    "name": "ipython",
    "version": 3
   },
   "file_extension": ".py",
   "mimetype": "text/x-python",
   "name": "python",
   "nbconvert_exporter": "python",
   "pygments_lexer": "ipython3",
   "version": "3.11.0"
  },
  "orig_nbformat": 4
 },
 "nbformat": 4,
 "nbformat_minor": 2
}
